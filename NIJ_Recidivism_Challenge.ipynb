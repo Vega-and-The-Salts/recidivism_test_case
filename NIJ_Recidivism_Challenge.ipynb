{
 "cells": [
  {
   "cell_type": "code",
   "execution_count": 16,
   "metadata": {
    "collapsed": true
   },
   "outputs": [],
   "source": [
    "import pandas as pd, os, numpy as np, matplotlib.pyplot as plt\n",
    "from termcolor import colored"
   ]
  },
  {
   "cell_type": "code",
   "execution_count": 19,
   "outputs": [],
   "source": [],
   "metadata": {
    "collapsed": false,
    "pycharm": {
     "name": "#%%\n"
    }
   }
  },
  {
   "cell_type": "code",
   "execution_count": 21,
   "outputs": [],
   "source": [
    "#Total number of rows is equal to 25,835\n",
    "df1 = pd.read_csv(\"./recidivism_test_case/NIJ_s_Recidivism_Challenge_Full_Dataset.csv\")\n"
   ],
   "metadata": {
    "collapsed": false,
    "pycharm": {
     "name": "#%%\n"
    }
   }
  },
  {
   "cell_type": "code",
   "execution_count": 6,
   "outputs": [
    {
     "data": {
      "text/plain": "54"
     },
     "execution_count": 6,
     "metadata": {},
     "output_type": "execute_result"
    }
   ],
   "source": [
    "df1.columns.nunique()"
   ],
   "metadata": {
    "collapsed": false,
    "pycharm": {
     "name": "#%%\n"
    }
   }
  },
  {
   "cell_type": "code",
   "execution_count": 7,
   "outputs": [],
   "source": [
    "#Idea of this is to have a Logistric Regression to take the first run to see if it is able to discern the data clearly.\n",
    "# 0 = Male, when run, should equal 22,668\n",
    "# 1 = Female, when run, should equal 3,167\n",
    "df1['Gender'] = [0 if x == \"M\" else 1 for x in df1[\"Gender\"]]"
   ],
   "metadata": {
    "collapsed": false,
    "pycharm": {
     "name": "#%%\n"
    }
   }
  },
  {
   "cell_type": "code",
   "execution_count": 8,
   "outputs": [],
   "source": [
    "df1[\"Race\"] = [0 if x == \"WHITE\" else 1 for x in df1[\"Race\"]]"
   ],
   "metadata": {
    "collapsed": false,
    "pycharm": {
     "name": "#%%\n"
    }
   }
  },
  {
   "cell_type": "code",
   "execution_count": 9,
   "outputs": [
    {
     "data": {
      "text/plain": "   ID  Gender  Race Age_at_Release  Residence_PUMA Gang_Affiliated  \\\n0   1       0     1          43-47              16           False   \n1   2       0     1          33-37              16           False   \n2   3       0     1    48 or older              24           False   \n3   4       0     0          38-42              16           False   \n4   5       0     0          33-37              16           False   \n\n   Supervision_Risk_Score_First Supervision_Level_First  \\\n0                           3.0                Standard   \n1                           6.0             Specialized   \n2                           7.0                    High   \n3                           7.0                    High   \n4                           4.0             Specialized   \n\n         Education_Level Dependents  ... DrugTests_Meth_Positive  \\\n0  At least some college  3 or more  ...                0.000000   \n1   Less than HS diploma          1  ...                0.000000   \n2  At least some college  3 or more  ...                0.166667   \n3   Less than HS diploma          1  ...                0.000000   \n4   Less than HS diploma  3 or more  ...                0.058824   \n\n  DrugTests_Other_Positive Percent_Days_Employed Jobs_Per_Year  \\\n0                      0.0              0.488562      0.447610   \n1                      0.0              0.425234      2.000000   \n2                      0.0              0.000000      0.000000   \n3                      0.0              1.000000      0.718996   \n4                      0.0              0.203562      0.929389   \n\n  Employment_Exempt Recidivism_Within_3years Recidivism_Arrest_Year1  \\\n0             False                    False                   False   \n1             False                     True                   False   \n2             False                     True                   False   \n3             False                    False                   False   \n4             False                     True                    True   \n\n  Recidivism_Arrest_Year2  Recidivism_Arrest_Year3  Training_Sample  \n0                   False                    False                1  \n1                   False                     True                1  \n2                    True                    False                1  \n3                   False                    False                1  \n4                   False                    False                1  \n\n[5 rows x 54 columns]",
      "text/html": "<div>\n<style scoped>\n    .dataframe tbody tr th:only-of-type {\n        vertical-align: middle;\n    }\n\n    .dataframe tbody tr th {\n        vertical-align: top;\n    }\n\n    .dataframe thead th {\n        text-align: right;\n    }\n</style>\n<table border=\"1\" class=\"dataframe\">\n  <thead>\n    <tr style=\"text-align: right;\">\n      <th></th>\n      <th>ID</th>\n      <th>Gender</th>\n      <th>Race</th>\n      <th>Age_at_Release</th>\n      <th>Residence_PUMA</th>\n      <th>Gang_Affiliated</th>\n      <th>Supervision_Risk_Score_First</th>\n      <th>Supervision_Level_First</th>\n      <th>Education_Level</th>\n      <th>Dependents</th>\n      <th>...</th>\n      <th>DrugTests_Meth_Positive</th>\n      <th>DrugTests_Other_Positive</th>\n      <th>Percent_Days_Employed</th>\n      <th>Jobs_Per_Year</th>\n      <th>Employment_Exempt</th>\n      <th>Recidivism_Within_3years</th>\n      <th>Recidivism_Arrest_Year1</th>\n      <th>Recidivism_Arrest_Year2</th>\n      <th>Recidivism_Arrest_Year3</th>\n      <th>Training_Sample</th>\n    </tr>\n  </thead>\n  <tbody>\n    <tr>\n      <th>0</th>\n      <td>1</td>\n      <td>0</td>\n      <td>1</td>\n      <td>43-47</td>\n      <td>16</td>\n      <td>False</td>\n      <td>3.0</td>\n      <td>Standard</td>\n      <td>At least some college</td>\n      <td>3 or more</td>\n      <td>...</td>\n      <td>0.000000</td>\n      <td>0.0</td>\n      <td>0.488562</td>\n      <td>0.447610</td>\n      <td>False</td>\n      <td>False</td>\n      <td>False</td>\n      <td>False</td>\n      <td>False</td>\n      <td>1</td>\n    </tr>\n    <tr>\n      <th>1</th>\n      <td>2</td>\n      <td>0</td>\n      <td>1</td>\n      <td>33-37</td>\n      <td>16</td>\n      <td>False</td>\n      <td>6.0</td>\n      <td>Specialized</td>\n      <td>Less than HS diploma</td>\n      <td>1</td>\n      <td>...</td>\n      <td>0.000000</td>\n      <td>0.0</td>\n      <td>0.425234</td>\n      <td>2.000000</td>\n      <td>False</td>\n      <td>True</td>\n      <td>False</td>\n      <td>False</td>\n      <td>True</td>\n      <td>1</td>\n    </tr>\n    <tr>\n      <th>2</th>\n      <td>3</td>\n      <td>0</td>\n      <td>1</td>\n      <td>48 or older</td>\n      <td>24</td>\n      <td>False</td>\n      <td>7.0</td>\n      <td>High</td>\n      <td>At least some college</td>\n      <td>3 or more</td>\n      <td>...</td>\n      <td>0.166667</td>\n      <td>0.0</td>\n      <td>0.000000</td>\n      <td>0.000000</td>\n      <td>False</td>\n      <td>True</td>\n      <td>False</td>\n      <td>True</td>\n      <td>False</td>\n      <td>1</td>\n    </tr>\n    <tr>\n      <th>3</th>\n      <td>4</td>\n      <td>0</td>\n      <td>0</td>\n      <td>38-42</td>\n      <td>16</td>\n      <td>False</td>\n      <td>7.0</td>\n      <td>High</td>\n      <td>Less than HS diploma</td>\n      <td>1</td>\n      <td>...</td>\n      <td>0.000000</td>\n      <td>0.0</td>\n      <td>1.000000</td>\n      <td>0.718996</td>\n      <td>False</td>\n      <td>False</td>\n      <td>False</td>\n      <td>False</td>\n      <td>False</td>\n      <td>1</td>\n    </tr>\n    <tr>\n      <th>4</th>\n      <td>5</td>\n      <td>0</td>\n      <td>0</td>\n      <td>33-37</td>\n      <td>16</td>\n      <td>False</td>\n      <td>4.0</td>\n      <td>Specialized</td>\n      <td>Less than HS diploma</td>\n      <td>3 or more</td>\n      <td>...</td>\n      <td>0.058824</td>\n      <td>0.0</td>\n      <td>0.203562</td>\n      <td>0.929389</td>\n      <td>False</td>\n      <td>True</td>\n      <td>True</td>\n      <td>False</td>\n      <td>False</td>\n      <td>1</td>\n    </tr>\n  </tbody>\n</table>\n<p>5 rows × 54 columns</p>\n</div>"
     },
     "execution_count": 9,
     "metadata": {},
     "output_type": "execute_result"
    }
   ],
   "source": [
    "df1.head()"
   ],
   "metadata": {
    "collapsed": false,
    "pycharm": {
     "name": "#%%\n"
    }
   }
  },
  {
   "cell_type": "markdown",
   "source": [
    "#Check the number of different categories to see if we want to user the pandas get_dummies function.\n",
    "#For the total lists that are low in categories, we can use the get_dummies function in Pandas\n",
    "#Any of the columns that fall into the unique_category will print out in green to let us know, else it will print in white"
   ],
   "metadata": {
    "collapsed": false,
    "pycharm": {
     "name": "#%% md\n"
    }
   }
  },
  {
   "cell_type": "code",
   "execution_count": 10,
   "outputs": [
    {
     "name": "stdout",
     "output_type": "stream",
     "text": [
      "Feature 'Age_at_Release' has a total of 7 unique categories\n",
      "\u001B[32mFeature 'Gang_Affiliated' has 3 and has been added to list_to_convert.\u001B[0m\n",
      "\u001B[32mFeature 'Supervision_Level_First' has 4 and has been added to list_to_convert.\u001B[0m\n",
      "\u001B[32mFeature 'Education_Level' has 3 and has been added to list_to_convert.\u001B[0m\n",
      "\u001B[32mFeature 'Dependents' has 4 and has been added to list_to_convert.\u001B[0m\n",
      "Feature 'Prison_Offense' has a total of 6 unique categories\n",
      "\u001B[32mFeature 'Prison_Years' has 4 and has been added to list_to_convert.\u001B[0m\n",
      "Feature 'Prior_Arrest_Episodes_Felony' has a total of 11 unique categories\n",
      "Feature 'Prior_Arrest_Episodes_Misd' has a total of 7 unique categories\n",
      "\u001B[32mFeature 'Prior_Arrest_Episodes_Violent' has 4 and has been added to list_to_convert.\u001B[0m\n",
      "Feature 'Prior_Arrest_Episodes_Property' has a total of 6 unique categories\n",
      "Feature 'Prior_Arrest_Episodes_Drug' has a total of 6 unique categories\n",
      "Feature 'Prior_Arrest_Episodes_PPViolationCharges' has a total of 6 unique categories\n",
      "\u001B[32mFeature 'Prior_Conviction_Episodes_Felony' has 4 and has been added to list_to_convert.\u001B[0m\n",
      "Feature 'Prior_Conviction_Episodes_Misd' has a total of 5 unique categories\n",
      "\u001B[32mFeature 'Prior_Conviction_Episodes_Prop' has 4 and has been added to list_to_convert.\u001B[0m\n",
      "\u001B[32mFeature 'Prior_Conviction_Episodes_Drug' has 3 and has been added to list_to_convert.\u001B[0m\n",
      "Feature 'Delinquency_Reports' has a total of 5 unique categories\n",
      "Feature 'Program_Attendances' has a total of 11 unique categories\n",
      "\u001B[32mFeature 'Program_UnexcusedAbsences' has 4 and has been added to list_to_convert.\u001B[0m\n",
      "\u001B[32mFeature 'Residence_Changes' has 4 and has been added to list_to_convert.\u001B[0m\n"
     ]
    }
   ],
   "source": [
    "list_to_convert = []\n",
    "for col_name in df1.columns:\n",
    "        if df1[col_name].dtypes == \"object\":\n",
    "            unique_category = len(df1[col_name].unique())\n",
    "            if unique_category <= 4:\n",
    "                list_to_convert.append(col_name)\n",
    "                print(colored(f\"Feature '{col_name}' has {unique_category} and has been added to list_to_convert.\", \"green\"))\n",
    "            else:\n",
    "                print(f\"Feature '{col_name}' has a total of {unique_category} unique categories\")\n"
   ],
   "metadata": {
    "collapsed": false,
    "pycharm": {
     "name": "#%%\n"
    }
   }
  },
  {
   "cell_type": "code",
   "execution_count": 11,
   "outputs": [
    {
     "data": {
      "text/plain": "['Gang_Affiliated',\n 'Supervision_Level_First',\n 'Education_Level',\n 'Dependents',\n 'Prison_Years',\n 'Prior_Arrest_Episodes_Violent',\n 'Prior_Conviction_Episodes_Felony',\n 'Prior_Conviction_Episodes_Prop',\n 'Prior_Conviction_Episodes_Drug',\n 'Program_UnexcusedAbsences',\n 'Residence_Changes']"
     },
     "execution_count": 11,
     "metadata": {},
     "output_type": "execute_result"
    }
   ],
   "source": [
    "list_to_convert"
   ],
   "metadata": {
    "collapsed": false,
    "pycharm": {
     "name": "#%%\n"
    }
   }
  },
  {
   "cell_type": "code",
   "execution_count": 12,
   "outputs": [],
   "source": [
    "def convert_to_dummy(dataframe, dummy_list):\n",
    "    for i in dummy_list:\n",
    "        dummies = pd.get_dummies(dataframe[i])\n",
    "        dataframe = dataframe.drop(i,1)\n",
    "        dataframe = pd.concat([dataframe, dummies], axis = 1)\n",
    "    return dataframe"
   ],
   "metadata": {
    "collapsed": false,
    "pycharm": {
     "name": "#%%\n"
    }
   }
  },
  {
   "cell_type": "code",
   "execution_count": 13,
   "outputs": [
    {
     "name": "stderr",
     "output_type": "stream",
     "text": [
      "C:\\Users\\disgu\\AppData\\Local\\Temp\\ipykernel_3812\\2529386575.py:4: FutureWarning: In a future version of pandas all arguments of DataFrame.drop except for the argument 'labels' will be keyword-only.\n",
      "  dataframe = dataframe.drop(i,1)\n",
      "C:\\Users\\disgu\\AppData\\Local\\Temp\\ipykernel_3812\\2529386575.py:4: FutureWarning: In a future version of pandas all arguments of DataFrame.drop except for the argument 'labels' will be keyword-only.\n",
      "  dataframe = dataframe.drop(i,1)\n",
      "C:\\Users\\disgu\\AppData\\Local\\Temp\\ipykernel_3812\\2529386575.py:4: FutureWarning: In a future version of pandas all arguments of DataFrame.drop except for the argument 'labels' will be keyword-only.\n",
      "  dataframe = dataframe.drop(i,1)\n",
      "C:\\Users\\disgu\\AppData\\Local\\Temp\\ipykernel_3812\\2529386575.py:4: FutureWarning: In a future version of pandas all arguments of DataFrame.drop except for the argument 'labels' will be keyword-only.\n",
      "  dataframe = dataframe.drop(i,1)\n",
      "C:\\Users\\disgu\\AppData\\Local\\Temp\\ipykernel_3812\\2529386575.py:4: FutureWarning: In a future version of pandas all arguments of DataFrame.drop except for the argument 'labels' will be keyword-only.\n",
      "  dataframe = dataframe.drop(i,1)\n",
      "C:\\Users\\disgu\\AppData\\Local\\Temp\\ipykernel_3812\\2529386575.py:4: FutureWarning: In a future version of pandas all arguments of DataFrame.drop except for the argument 'labels' will be keyword-only.\n",
      "  dataframe = dataframe.drop(i,1)\n",
      "C:\\Users\\disgu\\AppData\\Local\\Temp\\ipykernel_3812\\2529386575.py:4: FutureWarning: In a future version of pandas all arguments of DataFrame.drop except for the argument 'labels' will be keyword-only.\n",
      "  dataframe = dataframe.drop(i,1)\n",
      "C:\\Users\\disgu\\AppData\\Local\\Temp\\ipykernel_3812\\2529386575.py:4: FutureWarning: In a future version of pandas all arguments of DataFrame.drop except for the argument 'labels' will be keyword-only.\n",
      "  dataframe = dataframe.drop(i,1)\n",
      "C:\\Users\\disgu\\AppData\\Local\\Temp\\ipykernel_3812\\2529386575.py:4: FutureWarning: In a future version of pandas all arguments of DataFrame.drop except for the argument 'labels' will be keyword-only.\n",
      "  dataframe = dataframe.drop(i,1)\n",
      "C:\\Users\\disgu\\AppData\\Local\\Temp\\ipykernel_3812\\2529386575.py:4: FutureWarning: In a future version of pandas all arguments of DataFrame.drop except for the argument 'labels' will be keyword-only.\n",
      "  dataframe = dataframe.drop(i,1)\n",
      "C:\\Users\\disgu\\AppData\\Local\\Temp\\ipykernel_3812\\2529386575.py:4: FutureWarning: In a future version of pandas all arguments of DataFrame.drop except for the argument 'labels' will be keyword-only.\n",
      "  dataframe = dataframe.drop(i,1)\n"
     ]
    }
   ],
   "source": [
    "df2 = convert_to_dummy(df1, list_to_convert)"
   ],
   "metadata": {
    "collapsed": false,
    "pycharm": {
     "name": "#%%\n"
    }
   }
  },
  {
   "cell_type": "code",
   "execution_count": 14,
   "outputs": [
    {
     "data": {
      "text/plain": "54"
     },
     "execution_count": 14,
     "metadata": {},
     "output_type": "execute_result"
    }
   ],
   "source": [
    "df1.columns.nunique()"
   ],
   "metadata": {
    "collapsed": false,
    "pycharm": {
     "name": "#%%\n"
    }
   }
  },
  {
   "cell_type": "code",
   "execution_count": 15,
   "outputs": [
    {
     "data": {
      "text/plain": "Index([                                               'ID',\n                                                  'Gender',\n                                                    'Race',\n                                          'Age_at_Release',\n                                          'Residence_PUMA',\n                            'Supervision_Risk_Score_First',\n                                          'Prison_Offense',\n                            'Prior_Arrest_Episodes_Felony',\n                              'Prior_Arrest_Episodes_Misd',\n                          'Prior_Arrest_Episodes_Property',\n                              'Prior_Arrest_Episodes_Drug',\n                'Prior_Arrest_Episodes_PPViolationCharges',\n                         'Prior_Arrest_Episodes_DVCharges',\n                        'Prior_Arrest_Episodes_GunCharges',\n                          'Prior_Conviction_Episodes_Misd',\n                          'Prior_Conviction_Episodes_Viol',\n            'Prior_Conviction_Episodes_PPViolationCharges',\n       'Prior_Conviction_Episodes_DomesticViolenceCharges',\n                    'Prior_Conviction_Episodes_GunCharges',\n                                'Prior_Revocations_Parole',\n                             'Prior_Revocations_Probation',\n                                         'Condition_MH_SA',\n                                        'Condition_Cog_Ed',\n                                         'Condition_Other',\n                         'Violations_ElectronicMonitoring',\n                                  'Violations_Instruction',\n                                 'Violations_FailToReport',\n                        'Violations_MoveWithoutPermission',\n                                     'Delinquency_Reports',\n                                     'Program_Attendances',\n                                   'Avg_Days_per_DrugTest',\n                                  'DrugTests_THC_Positive',\n                              'DrugTests_Cocaine_Positive',\n                                 'DrugTests_Meth_Positive',\n                                'DrugTests_Other_Positive',\n                                   'Percent_Days_Employed',\n                                           'Jobs_Per_Year',\n                                       'Employment_Exempt',\n                                'Recidivism_Within_3years',\n                                 'Recidivism_Arrest_Year1',\n                                 'Recidivism_Arrest_Year2',\n                                 'Recidivism_Arrest_Year3',\n                                         'Training_Sample',\n                                                     False,\n                                                      True,\n                                                    'High',\n                                             'Specialized',\n                                                'Standard',\n                                   'At least some college',\n                                     'High School Diploma',\n                                    'Less than HS diploma',\n                                                       '0',\n                                                       '1',\n                                                       '2',\n                                               '3 or more',\n                                               '1-2 years',\n                               'Greater than 2 to 3 years',\n                                        'Less than 1 year',\n                                       'More than 3 years',\n                                                       '0',\n                                                       '1',\n                                                       '2',\n                                               '3 or more',\n                                                       '0',\n                                                       '1',\n                                                       '2',\n                                               '3 or more',\n                                                       '0',\n                                                       '1',\n                                                       '2',\n                                               '3 or more',\n                                                       '0',\n                                                       '1',\n                                               '2 or more',\n                                                       '0',\n                                                       '1',\n                                                       '2',\n                                               '3 or more',\n                                                       '0',\n                                                       '1',\n                                                       '2',\n                                               '3 or more'],\n      dtype='object')"
     },
     "execution_count": 15,
     "metadata": {},
     "output_type": "execute_result"
    }
   ],
   "source": [
    "df2.columns"
   ],
   "metadata": {
    "collapsed": false,
    "pycharm": {
     "name": "#%%\n"
    }
   }
  },
  {
   "cell_type": "code",
   "execution_count": null,
   "outputs": [],
   "source": [],
   "metadata": {
    "collapsed": false,
    "pycharm": {
     "name": "#%%\n"
    }
   }
  }
 ],
 "metadata": {
  "kernelspec": {
   "display_name": "Python 3",
   "language": "python",
   "name": "python3"
  },
  "language_info": {
   "codemirror_mode": {
    "name": "ipython",
    "version": 2
   },
   "file_extension": ".py",
   "mimetype": "text/x-python",
   "name": "python",
   "nbconvert_exporter": "python",
   "pygments_lexer": "ipython2",
   "version": "2.7.6"
  }
 },
 "nbformat": 4,
 "nbformat_minor": 0
}