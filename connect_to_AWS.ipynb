{
 "cells": [
  {
   "cell_type": "code",
   "execution_count": 1,
   "outputs": [],
   "source": [
    "import importlib.util\n",
    "check_if_term_exists = importlib.util.find_spec(\"termcolor\")\n",
    "check_if_pandas_exists = importlib.util.find_spec(\"pandas\")\n",
    "check_if_sqlalchemy_exists = importlib.util.find_spec(\"sqlalchemy\")\n",
    "check_if_pymysql_exists = importlib.util.find_spec(\"pymysql\")"
   ],
   "metadata": {
    "collapsed": false,
    "pycharm": {
     "name": "#%%\n"
    }
   }
  },
  {
   "cell_type": "code",
   "execution_count": 2,
   "outputs": [
    {
     "name": "stdout",
     "output_type": "stream",
     "text": [
      "\u001B[32mAll imports done successfully.\u001B[0m\n",
      "\u001B[32mHope that everything works!\u001B[0m\n"
     ]
    }
   ],
   "source": [
    "if check_if_term_exists:\n",
    "    if check_if_pandas_exists:\n",
    "        if check_if_sqlalchemy_exists:\n",
    "            if check_if_pymysql_exists:\n",
    "                try:\n",
    "                    import pandas as pd, os, time\n",
    "                    from aws_connection import AWSConstruct\n",
    "                    from termcolor import colored\n",
    "                    print(colored(\"\"\"All imports done successfully.\"\"\", 'green'))\n",
    "                    time.sleep(1)\n",
    "                except:\n",
    "                    print(\"Installing libraries...\")\n",
    "                    !pip install termcolor\n",
    "                    !pip install pandas\n",
    "                    !pip install sqlalchemy\n",
    "\n",
    "                finally:\n",
    "                    print(colored(\"Hope that everything works!\", 'green'))"
   ],
   "metadata": {
    "collapsed": false,
    "pycharm": {
     "name": "#%%\n"
    }
   }
  },
  {
   "cell_type": "markdown",
   "source": [
    "<h2><font color='green'>If you hover over the function calls, ones with a () at the end, <br>it will give you a brief explanation.</font><br><br><font color='red'>Change the directory location if it fails!<br><font color='green'>Please see the following: <br>../ to go up one directory <br>./ will stay in the current directory<br></font></h2>"
   ],
   "metadata": {
    "collapsed": false,
    "pycharm": {
     "name": "#%% md\n"
    }
   }
  },
  {
   "cell_type": "code",
   "execution_count": 3,
   "outputs": [
    {
     "name": "stdout",
     "output_type": "stream",
     "text": [
      "\u001B[32mAll files were read successfully.\u001B[0m\n",
      "CPU times: total: 359 ms\n",
      "Wall time: 359 ms\n"
     ]
    }
   ],
   "source": [
    "%%time\n",
    "#Measures time to complete. It's not a small amount, so do your best to skip this after the initial...\n",
    "try:\n",
    "    df = pd.read_excel(\"../ExcelDocs/Example_Predictions_Explanations.xlsx\")\n",
    "except:\n",
    "    try:\n",
    "        print(colored(f\"Your current file location is {os.getcwd()}. The file that is being searched for is not here.\", 'red'))\n",
    "        file_loc = input(colored(\"If file is not located in same directory, copy paste the location here *(Make sure that you use ../ to start or it will fail.): \", 'blue'))\n",
    "        df = pd.read_excel(f\"{file_loc}\")\n",
    "        print(colored(\"All files read by Pandas library.\", 'green'))\n",
    "    except:\n",
    "        print(colored(\"Failed to read file, Please try again.\", \"red\"))\n",
    "else:\n",
    "    print(colored(\"All files were read successfully.\", \"green\"))"
   ],
   "metadata": {
    "collapsed": false,
    "pycharm": {
     "name": "#%%\n"
    }
   }
  },
  {
   "cell_type": "markdown",
   "source": [
    "<h2><font color='blue'>Checks for Databases and returns the names of currently used databases</font></h2><br>\n",
    "<p2><font color='blue'>Do not delete any databases unless you created them, thanks!</font></p2>\n",
    "<p2><font color='blue'>If you are having issues, <br>please see the __init__ function and change the format</font></p2>"
   ],
   "metadata": {
    "collapsed": false,
    "pycharm": {
     "name": "#%% md\n"
    }
   }
  },
  {
   "cell_type": "code",
   "execution_count": 4,
   "outputs": [
    {
     "name": "stdout",
     "output_type": "stream",
     "text": [
      "\u001B[32mHandshake Successful! MySQL version 8.0.28\u001B[0m\n"
     ]
    }
   ],
   "source": [
    "aws_class = AWSConstruct()\n",
    "connect = aws_class.aws_connection_sql()"
   ],
   "metadata": {
    "collapsed": false,
    "pycharm": {
     "name": "#%%\n"
    }
   }
  },
  {
   "cell_type": "markdown",
   "source": [
    "<h2><font color='blue'>Checks for Databases and returns the names of currently used databases</font></h2><br>"
   ],
   "metadata": {
    "collapsed": false,
    "pycharm": {
     "name": "#%% md\n"
    }
   }
  },
  {
   "cell_type": "code",
   "execution_count": 18,
   "outputs": [
    {
     "name": "stdout",
     "output_type": "stream",
     "text": [
      "\u001B[32m[{'Database': 'Get_Dummies_DB'}, {'Database': 'J_J_DB'}, {'Database': 'NIJ_Dataset'}, {'Database': 'Predictions_Output'}, {'Database': 'db_test'}, {'Database': 'information_schema'}, {'Database': 'john_test_delete'}, {'Database': 'mysql'}, {'Database': 'performance_schema'}, {'Database': 'sys'}]\u001B[0m\n"
     ]
    }
   ],
   "source": [
    "aws_class.sql_check_for_database(db_connection=connect)"
   ],
   "metadata": {
    "collapsed": false,
    "pycharm": {
     "name": "#%%\n"
    }
   }
  },
  {
   "cell_type": "markdown",
   "source": [
    "<h2><font color='red'>This is the database deletion function. </font></h2><br>\n",
    "<p1><font color='red'>It will ask for the name of the Database,</font></p1><br>\n",
    "<p1><font color='red'>if you are sure you want to delete it, and the execution status</font></p1>"
   ],
   "metadata": {
    "collapsed": false,
    "pycharm": {
     "name": "#%% md\n"
    }
   }
  },
  {
   "cell_type": "code",
   "execution_count": 10,
   "outputs": [
    {
     "name": "stdout",
     "output_type": "stream",
     "text": [
      "\u001B[31mThis is the database deletion function. Do not run this function on databases that you have not instantiated yourself. Thanks!\u001B[0m\n"
     ]
    }
   ],
   "source": [
    "print(colored(f'This is the database deletion function. Do not run this function on databases that you have not instantiated yourself. Thanks!', 'red'))\n",
    "#db_to_delete = input(\"Name of the Database to delete: \")\n",
    "#aws_class.sql_drop_database(db_connection=connect, table_name=db_to_delete)"
   ],
   "metadata": {
    "collapsed": false,
    "pycharm": {
     "name": "#%%\n"
    }
   }
  },
  {
   "cell_type": "markdown",
   "source": [
    "<h3><font color='blue'> This is the Database creation function. </h3><br>\n",
    "<p1><font color='blue'> It will create a database for the user.</font></p1><br>\n",
    "<p2><font color='blue'> You may also just define the name of the Database here as well. </font></p2>"
   ],
   "metadata": {
    "collapsed": false,
    "pycharm": {
     "name": "#%% md\n"
    }
   }
  },
  {
   "cell_type": "code",
   "execution_count": 11,
   "outputs": [
    {
     "name": "stdout",
     "output_type": "stream",
     "text": [
      "\u001B[34mDatabase db_test exists.\u001B[0m\n"
     ]
    }
   ],
   "source": [
    "create_db = 'db_test'#input(\"Name of the Database to instantiate or call: \")\n",
    "aws_class.sql_create_database(db_connection=connect, db_name=create_db)"
   ],
   "metadata": {
    "collapsed": false,
    "pycharm": {
     "name": "#%%\n"
    }
   }
  },
  {
   "cell_type": "markdown",
   "source": [
    "<h3><font color='blue'>This will create a table within the Database you named previously.</h3>"
   ],
   "metadata": {
    "collapsed": false,
    "pycharm": {
     "name": "#%% md\n"
    }
   }
  },
  {
   "cell_type": "code",
   "execution_count": 1,
   "outputs": [],
   "source": [
    "create_table = 'Sheet2'#input(\"What is the name of the new table: \")"
   ],
   "metadata": {
    "collapsed": false,
    "pycharm": {
     "name": "#%%\n"
    }
   }
  },
  {
   "cell_type": "markdown",
   "source": [
    "<h3><font color='blue'> This show the tables within the Database that was named previously</h3>"
   ],
   "metadata": {
    "collapsed": false,
    "pycharm": {
     "name": "#%% md\n"
    }
   }
  },
  {
   "cell_type": "code",
   "execution_count": 16,
   "outputs": [
    {
     "name": "stdout",
     "output_type": "stream",
     "text": [
      "\u001B[32m()\u001B[0m\n"
     ]
    }
   ],
   "source": [
    "aws_class.sql_show_tables(db_connection=connect, db_name=create_db)"
   ],
   "metadata": {
    "collapsed": false,
    "pycharm": {
     "name": "#%%\n"
    }
   }
  },
  {
   "cell_type": "markdown",
   "source": [
    "<h3><font color='blue'>This function call will attempt to upload the information to the Database</h3><br>\n",
    "<p2><font color='blue'>If it fails, it will try again by using the table_name x2, ex: \"table_nametable_name\"</p2>\n"
   ],
   "metadata": {
    "collapsed": false,
    "pycharm": {
     "name": "#%% md\n"
    }
   }
  },
  {
   "cell_type": "markdown",
   "source": [
    "<h3> This is producing a check"
   ],
   "metadata": {
    "collapsed": false,
    "pycharm": {
     "name": "#%% md\n"
    }
   }
  },
  {
   "cell_type": "code",
   "execution_count": 2,
   "outputs": [],
   "source": [
    "aws_class.show_counts_from_table(db_connection=connect, database=create_db, table_name=create_table)"
   ],
   "metadata": {
    "collapsed": false,
    "pycharm": {
     "name": "#%%\n"
    }
   }
  },
  {
   "cell_type": "code",
   "execution_count": null,
   "outputs": [],
   "source": [],
   "metadata": {
    "collapsed": false,
    "pycharm": {
     "name": "#%%\n"
    }
   }
  },
  {
   "cell_type": "markdown",
   "source": [
    "<h3><font color='blue'>This function will disconnect you from the SQL server.</h3>"
   ],
   "metadata": {
    "collapsed": false,
    "pycharm": {
     "name": "#%% md\n"
    }
   }
  },
  {
   "cell_type": "code",
   "execution_count": 5,
   "outputs": [
    {
     "name": "stdout",
     "output_type": "stream",
     "text": [
      "False    960\n",
      "dtype: int64\n"
     ]
    }
   ],
   "source": [
    "#This checks for duplications over all rows.\n",
    "aws_class.check_for_duplicates(dataframe=df)"
   ],
   "metadata": {
    "collapsed": false,
    "pycharm": {
     "name": "#%%\n"
    }
   }
  },
  {
   "cell_type": "code",
   "execution_count": 5,
   "outputs": [],
   "source": [
    "#Returns cleaned dataframe with no duplication issues\n",
    "cleaned_df = aws_class.drop_duplicates(dataframe=df)"
   ],
   "metadata": {
    "collapsed": false,
    "pycharm": {
     "name": "#%%\n"
    }
   }
  },
  {
   "cell_type": "code",
   "execution_count": 17,
   "outputs": [
    {
     "name": "stdout",
     "output_type": "stream",
     "text": [
      "\u001B[32m960 rows and 4 columns added.\u001B[0m\n"
     ]
    }
   ],
   "source": [
    "aws_class.upload_excel_to_database(db_connection=connect, database=create_db, table_name=create_table, dataframe=cleaned_df)"
   ],
   "metadata": {
    "collapsed": false,
    "pycharm": {
     "name": "#%%\n"
    }
   }
  },
  {
   "cell_type": "code",
   "execution_count": 12,
   "outputs": [
    {
     "name": "stdout",
     "output_type": "stream",
     "text": [
      "\u001B[32mDisconnection from <pymysql.connections.Connection object at 0x000002423E69A560> successful.\u001B[0m\n"
     ]
    }
   ],
   "source": [
    "aws_class.sql_disconnect(connect)"
   ],
   "metadata": {
    "collapsed": false,
    "pycharm": {
     "name": "#%%\n"
    }
   }
  }
 ],
 "metadata": {
  "kernelspec": {
   "display_name": "Python 3",
   "language": "python",
   "name": "python3"
  },
  "language_info": {
   "codemirror_mode": {
    "name": "ipython",
    "version": 2
   },
   "file_extension": ".py",
   "mimetype": "text/x-python",
   "name": "python",
   "nbconvert_exporter": "python",
   "pygments_lexer": "ipython2",
   "version": "2.7.6"
  }
 },
 "nbformat": 4,
 "nbformat_minor": 0
}