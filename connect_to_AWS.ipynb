{
 "cells": [
  {
   "cell_type": "code",
   "execution_count": 1,
   "outputs": [
    {
     "name": "stdout",
     "output_type": "stream",
     "text": [
      "Requirement already satisfied: termcolor in c:\\programdata\\anaconda3\\envs\\pythonproject\\lib\\site-packages (1.1.0)\n",
      "Requirement already satisfied: pandas in c:\\programdata\\anaconda3\\envs\\pythonproject\\lib\\site-packages (1.4.2)\n",
      "Requirement already satisfied: pytz>=2020.1 in c:\\programdata\\anaconda3\\envs\\pythonproject\\lib\\site-packages (from pandas) (2022.1)\n",
      "Requirement already satisfied: numpy>=1.21.0 in c:\\programdata\\anaconda3\\envs\\pythonproject\\lib\\site-packages (from pandas) (1.22.3)\n",
      "Requirement already satisfied: python-dateutil>=2.8.1 in c:\\programdata\\anaconda3\\envs\\pythonproject\\lib\\site-packages (from pandas) (2.8.2)\n",
      "Requirement already satisfied: six>=1.5 in c:\\programdata\\anaconda3\\envs\\pythonproject\\lib\\site-packages (from python-dateutil>=2.8.1->pandas) (1.16.0)\n",
      "Requirement already satisfied: sqlalchemy in c:\\programdata\\anaconda3\\envs\\pythonproject\\lib\\site-packages (1.4.35)\n",
      "Requirement already satisfied: greenlet!=0.4.17 in c:\\programdata\\anaconda3\\envs\\pythonproject\\lib\\site-packages (from sqlalchemy) (1.1.2)\n",
      "\u001B[32mAll imports done successfully.\u001B[0m\n",
      "\u001B[32mHope that everything works!\u001B[0m\n"
     ]
    }
   ],
   "source": [
    "try:\n",
    "    !pip install termcolor\n",
    "    !pip install pandas\n",
    "    !pip install sqlalchemy\n",
    "except:\n",
    "    print(\"Installations of libraries failed.\")\n",
    "else:\n",
    "    import pandas as pd, os, time\n",
    "    from aws_connection import AWSConstruct\n",
    "    from termcolor import colored\n",
    "    print(colored(\"\"\"All imports done successfully.\"\"\", 'green'))\n",
    "    time.sleep(1)\n",
    "finally:\n",
    "    print(colored(\"Hope that everything works!\", 'green'))"
   ],
   "metadata": {
    "collapsed": false,
    "pycharm": {
     "name": "#%%\n"
    }
   }
  },
  {
   "cell_type": "markdown",
   "source": [
    "<h2><font color='green'>This may possibly work. but if not, <br>just change the directory location and keep me updated!<br>Please see the following: <br>../ to go up one directory <br>./ will stay in the current directory<br></font></h2>"
   ],
   "metadata": {
    "collapsed": false,
    "pycharm": {
     "name": "#%% md\n"
    }
   }
  },
  {
   "cell_type": "code",
   "execution_count": 2,
   "outputs": [
    {
     "name": "stdout",
     "output_type": "stream",
     "text": [
      "\u001B[32mAll files were read successfully.\u001B[0m\n",
      "CPU times: total: 50.7 s\n",
      "Wall time: 50.9 s\n"
     ]
    }
   ],
   "source": [
    "%%time\n",
    "#Measures time to complete. It's not a small amount, so do your best to skip this after the initial...\n",
    "try:\n",
    "    df = pd.read_excel(\"../ExcelDocs/Pre_Processing.xlsx\")\n",
    "except:\n",
    "    try:\n",
    "        print(colored(f\"Your current file location is {os.getcwd()}. The file that is being searched for is not here.\", 'red'))\n",
    "        file_loc = input(colored(\"If file is not located in same directory, copy paste the location here *(Make sure that you use ../ to start or it will fail.): \", 'blue'))\n",
    "        df = pd.read_excel(f\"{file_loc}\")\n",
    "        print(colored(\"All files read by Pandas library.\", 'green'))\n",
    "    except:\n",
    "        print(colored(\"Failed to read file, Please try again.\", \"red\"))\n",
    "else:\n",
    "    print(colored(\"All files were read successfully.\", \"green\"))"
   ],
   "metadata": {
    "collapsed": false,
    "pycharm": {
     "name": "#%%\n"
    }
   }
  },
  {
   "cell_type": "markdown",
   "source": [
    "<h2><font color='blue'>Checks for Databases and returns the names of currently used databases</font></h2><br>\n",
    "<p2><font color='blue'>Do not delete any databases unless you created them, thanks!</font></p2>\n",
    "<p2><font color='blue'>If you are having issues, <br>please see the __init__ function and change the format</font></p2>"
   ],
   "metadata": {
    "collapsed": false,
    "pycharm": {
     "name": "#%% md\n"
    }
   }
  },
  {
   "cell_type": "code",
   "execution_count": 3,
   "outputs": [],
   "source": [
    "aws_class = AWSConstruct()"
   ],
   "metadata": {
    "collapsed": false,
    "pycharm": {
     "name": "#%%\n"
    }
   }
  },
  {
   "cell_type": "code",
   "execution_count": 4,
   "outputs": [
    {
     "name": "stdout",
     "output_type": "stream",
     "text": [
      "\u001B[32mHandshake Successful! MySQL version 8.0.28\u001B[0m\n"
     ]
    }
   ],
   "source": [
    "connect = aws_class.aws_connection_sql()"
   ],
   "metadata": {
    "collapsed": false,
    "pycharm": {
     "name": "#%%\n"
    }
   }
  },
  {
   "cell_type": "markdown",
   "source": [
    "<h2><font color='blue'>Checks for Databases and returns the names of currently used databases</font></h2><br>\n",
    "<p1><font color='blue'>Do not delete any databases unless you created them, thanks!</font></p1>"
   ],
   "metadata": {
    "collapsed": false,
    "pycharm": {
     "name": "#%% md\n"
    }
   }
  },
  {
   "cell_type": "code",
   "execution_count": 5,
   "outputs": [
    {
     "name": "stdout",
     "output_type": "stream",
     "text": [
      "\u001B[32m[{'Database': 'John_Test_db'}, {'Database': 'information_schema'}, {'Database': 'john_test_delete'}, {'Database': 'mysql'}, {'Database': 'performance_schema'}, {'Database': 'sys'}]\u001B[0m\n"
     ]
    }
   ],
   "source": [
    "aws_class.sql_check_for_database(db_connection=connect)"
   ],
   "metadata": {
    "collapsed": false,
    "pycharm": {
     "name": "#%%\n"
    }
   }
  },
  {
   "cell_type": "markdown",
   "source": [
    "<h2><font color='red'>This is the database deletion function. </font></h2><br>\n",
    "<p1><font color='red'>It will ask for the name of the Database,</font></p1><br>\n",
    "<p1><font color='red'>if you are sure you want to delete it, and the execution status</font></p1>"
   ],
   "metadata": {
    "collapsed": false,
    "pycharm": {
     "name": "#%% md\n"
    }
   }
  },
  {
   "cell_type": "code",
   "execution_count": 11,
   "outputs": [
    {
     "name": "stdout",
     "output_type": "stream",
     "text": [
      "\u001B[31mThis is the database deletion function. Do not run this function on databases that you have not instantiated yourself. Thanks!\u001B[0m\n",
      "\u001B[32mTable john_test_delete has been deleted.\u001B[0m\n"
     ]
    }
   ],
   "source": [
    "print(colored(f'This is the database deletion function. Do not run this function on databases that you have not instantiated yourself. Thanks!', 'red'))\n",
    "db_to_delete = input(\"Name of the Database to delete: \")\n",
    "aws_class.sql_drop_database(db_connection=connect, table_name=db_to_delete)"
   ],
   "metadata": {
    "collapsed": false,
    "pycharm": {
     "name": "#%%\n"
    }
   }
  },
  {
   "cell_type": "markdown",
   "source": [
    "<h3><font color='blue'> This is the Database creation function. </h3><br>\n",
    "<p1><font color='blue'> It will create a database for the user.</font></p1><br>\n",
    "<p2><font color='blue'> You may also just define the name of the Database here as well. </font></p2>"
   ],
   "metadata": {
    "collapsed": false,
    "pycharm": {
     "name": "#%% md\n"
    }
   }
  },
  {
   "cell_type": "code",
   "execution_count": 12,
   "outputs": [
    {
     "name": "stdout",
     "output_type": "stream",
     "text": [
      "\u001B[32mDatabase john_test_delete created successfully\u001B[0m\n"
     ]
    }
   ],
   "source": [
    "create_db = input(\"Name of the Database to instantiate or call: \")\n",
    "aws_class.sql_create_database(db_connection=connect, db_name=create_db)"
   ],
   "metadata": {
    "collapsed": false,
    "pycharm": {
     "name": "#%%\n"
    }
   }
  },
  {
   "cell_type": "markdown",
   "source": [
    "<h3><font color='blue'>This will create a table within the Database you named previously.</h3>"
   ],
   "metadata": {
    "collapsed": false,
    "pycharm": {
     "name": "#%% md\n"
    }
   }
  },
  {
   "cell_type": "code",
   "execution_count": 13,
   "outputs": [
    {
     "name": "stdout",
     "output_type": "stream",
     "text": [
      "\u001B[32mSchema/Table table_one created!\u001B[0m\n"
     ]
    }
   ],
   "source": [
    "create_table = input(\"What is the name of the new table: \")\n",
    "cols = aws_class.create_table_in_database(db_connection=connect, database=create_db, table_name=create_table, dataframe=df)"
   ],
   "metadata": {
    "collapsed": false,
    "pycharm": {
     "name": "#%%\n"
    }
   }
  },
  {
   "cell_type": "markdown",
   "source": [
    "<h3><font color='blue'> This show the tables within the Database that was named previously</h3>"
   ],
   "metadata": {
    "collapsed": false,
    "pycharm": {
     "name": "#%% md\n"
    }
   }
  },
  {
   "cell_type": "code",
   "execution_count": 14,
   "outputs": [
    {
     "name": "stdout",
     "output_type": "stream",
     "text": [
      "\u001B[32m[{'Tables_in_john_test_delete': 'table_one'}]\u001B[0m\n"
     ]
    }
   ],
   "source": [
    "aws_class.sql_show_tables(db_connection=connect, db_name=create_db)"
   ],
   "metadata": {
    "collapsed": false,
    "pycharm": {
     "name": "#%%\n"
    }
   }
  },
  {
   "cell_type": "markdown",
   "source": [
    "<h3><font color='blue'>This function call will attempt to upload the information to the Database</h3><br>\n",
    "<p2><font color='blue'>If it fails, it will try again by using the table_name x2, ex: \"table_nametable_name\"</p2>\n"
   ],
   "metadata": {
    "collapsed": false,
    "pycharm": {
     "name": "#%% md\n"
    }
   }
  },
  {
   "cell_type": "code",
   "execution_count": 15,
   "outputs": [
    {
     "name": "stdout",
     "output_type": "stream",
     "text": [
      "\u001B[32m25835 rows and 124 columns added.\u001B[0m\n"
     ]
    }
   ],
   "source": [
    "aws_class.upload_excel_to_database(db_connection=connect, database=create_db, table_name=create_table, dataframe=df)"
   ],
   "metadata": {
    "collapsed": false,
    "pycharm": {
     "name": "#%%\n"
    }
   }
  },
  {
   "cell_type": "code",
   "execution_count": 15,
   "outputs": [],
   "source": [],
   "metadata": {
    "collapsed": false,
    "pycharm": {
     "name": "#%%\n"
    }
   }
  },
  {
   "cell_type": "code",
   "execution_count": 16,
   "outputs": [
    {
     "name": "stdout",
     "output_type": "stream",
     "text": [
      "\u001B[32m[{'COUNT(ID_ref)': 25835}]\u001B[0m\n"
     ]
    }
   ],
   "source": [
    "aws_class.show_counts_from_table(db_connection=connect, database=create_db, table_name=create_table)"
   ],
   "metadata": {
    "collapsed": false,
    "pycharm": {
     "name": "#%%\n"
    }
   }
  },
  {
   "cell_type": "markdown",
   "source": [
    "<h3><font color='blue'>This function will disconnect you from the SQL server.</h3>"
   ],
   "metadata": {
    "collapsed": false,
    "pycharm": {
     "name": "#%% md\n"
    }
   }
  },
  {
   "cell_type": "code",
   "execution_count": 17,
   "outputs": [
    {
     "name": "stdout",
     "output_type": "stream",
     "text": [
      "\u001B[32mDisconnection from <pymysql.connections.Connection object at 0x00000208747668C0> successful.\u001B[0m\n"
     ]
    }
   ],
   "source": [
    "aws_class.sql_disconnect(connect)"
   ],
   "metadata": {
    "collapsed": false,
    "pycharm": {
     "name": "#%%\n"
    }
   }
  },
  {
   "cell_type": "code",
   "execution_count": null,
   "outputs": [],
   "source": [],
   "metadata": {
    "collapsed": false,
    "pycharm": {
     "name": "#%%\n"
    }
   }
  }
 ],
 "metadata": {
  "kernelspec": {
   "display_name": "Python 3",
   "language": "python",
   "name": "python3"
  },
  "language_info": {
   "codemirror_mode": {
    "name": "ipython",
    "version": 2
   },
   "file_extension": ".py",
   "mimetype": "text/x-python",
   "name": "python",
   "nbconvert_exporter": "python",
   "pygments_lexer": "ipython2",
   "version": "2.7.6"
  }
 },
 "nbformat": 4,
 "nbformat_minor": 0
}