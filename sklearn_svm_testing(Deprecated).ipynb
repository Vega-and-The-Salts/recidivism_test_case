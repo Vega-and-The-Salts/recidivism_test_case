{
 "cells": [
  {
   "cell_type": "code",
   "execution_count": 1,
   "metadata": {
    "collapsed": true
   },
   "outputs": [],
   "source": [
    "import matplotlib.pyplot as plt, pandas as pd, numpy as np, seaborn as sns\n",
    "import sklearn.model_selection\n",
    "from sklearn.linear_model import LinearRegression, LogisticRegression\n",
    "from sklearn.neighbors import KNeighborsRegressor\n",
    "from sklearn.model_selection import train_test_split\n",
    "from sklearn import svm, metrics\n",
    "%matplotlib inline"
   ]
  },
  {
   "cell_type": "code",
   "execution_count": 2,
   "outputs": [],
   "source": [
    "df = pd.read_excel(\"test.xlsx\")"
   ],
   "metadata": {
    "collapsed": false,
    "pycharm": {
     "name": "#%%\n"
    }
   }
  },
  {
   "cell_type": "code",
   "execution_count": 3,
   "outputs": [],
   "source": [
    "df1 = df"
   ],
   "metadata": {
    "collapsed": false,
    "pycharm": {
     "name": "#%%\n"
    }
   }
  },
  {
   "cell_type": "code",
   "execution_count": 4,
   "outputs": [
    {
     "data": {
      "text/plain": "Index(['ID', 'Gender', 'Race', 'Age_at_Release', 'Residence_PUMA',\n       'Gang_Affiliated', 'Supervision_Risk_Score_First',\n       'Supervision_Level_First', 'Education_Level', 'Dependents',\n       'Prison_Offense', 'Prison_Years', 'Prior_Arrest_Episodes_Felony',\n       'Prior_Arrest_Episodes_Misd', 'Prior_Arrest_Episodes_Violent',\n       'Prior_Arrest_Episodes_Property', 'Prior_Arrest_Episodes_Drug',\n       'Prior_Arrest_Episodes_PPViolationCharges',\n       'Prior_Conviction_Episodes_Felony', 'Prior_Conviction_Episodes_Misd',\n       'Prior_Conviction_Episodes_Prop', 'Prior_Conviction_Episodes_Drug',\n       'Condition_MH_SA', 'Delinquency_Reports', 'Program_Attendances',\n       'Program_UnexcusedAbsences', 'Residence_Changes',\n       'DrugTests_THC_Positive', 'DrugTests_Cocaine_Positive',\n       'DrugTests_Meth_Positive', 'DrugTests_Other_Positive',\n       'Percent_Days_Employed', 'Jobs_Per_Year', 'Recidivism_Within_3years',\n       'Recidivism_Arrest_Year3', 'Training_Sample'],\n      dtype='object')"
     },
     "execution_count": 4,
     "metadata": {},
     "output_type": "execute_result"
    }
   ],
   "source": [
    "df1.columns"
   ],
   "metadata": {
    "collapsed": false,
    "pycharm": {
     "name": "#%%\n"
    }
   }
  },
  {
   "cell_type": "code",
   "execution_count": 5,
   "outputs": [],
   "source": [
    "df1[\"Race\"] = df1[\"Race\"].replace({\"BLACK\": 0, \"WHITE\":1})\n",
    "df1[\"Gender\"] = df1[\"Gender\"].replace({\"M\": 0, \"F\":1})\n",
    "df1[\"Age_at_Release\"] = df1[\"Age_at_Release\"].replace({\"18-22\": 0,\"38-42\": 0,\"43-47\": 0,\"48 or older\": 0, \"23-27\": 1,\"28-32\": 1,\"33-37\": 1})\n",
    "df1[\"Prior_Conviction_Episodes_Felony\"] = df1[\"Prior_Conviction_Episodes_Felony\"].replace({1 : 0, 2 : 1, \"3 or more\" : 1})\n",
    "df1[\"Jobs_Per_Year\"] = df1[\"Jobs_Per_Year\"].replace({1 : 0, 2 : 0, 3 : 1, 4 : 1, 5 : 1, 6 : 1, 7 : 1, 8 : 1})\n",
    "df1[\"Prior_Arrest_Episodes_Violent\"] = df1[\"Prior_Arrest_Episodes_Violent\"].replace({1 : 0, 2 : 1, \"3 or more\" : 1})\n",
    "df1[\"Dependents\"] = df1[\"Dependents\"].replace({1 : 0, 2 : 1, \"3 or more\" : 1})\n",
    "df1[\"Residence_Changes\"] = df1[\"Residence_Changes\"].replace({1 : 0, 2 : 1, \"3 or more\" : 1})\n",
    "df1[\"Delinquency_Reports\"] = df1[\"Delinquency_Reports\"].replace({2 : 1, 3 : 1, \"4 or more\" : 1})\n",
    "df1[\"Prior_Arrest_Episodes_PPViolationCharges\"] = df1[\"Prior_Arrest_Episodes_PPViolationCharges\"].replace({\n",
    "    2 : 1, 3 : 1,\n",
    "    4 : 1, 5 : 1,\n",
    "    \"5 or more\" : 0\n",
    "})"
   ],
   "metadata": {
    "collapsed": false,
    "pycharm": {
     "name": "#%%\n"
    }
   }
  },
  {
   "cell_type": "code",
   "execution_count": 6,
   "outputs": [
    {
     "name": "stdout",
     "output_type": "stream",
     "text": [
      "Accuracy Score: 84.93%\n"
     ]
    }
   ],
   "source": [
    "x = df1.loc[:,[\"Race\", \"Gender\"]]\n",
    "x = x.values\n",
    "y = df1.loc[:, \"Gang_Affiliated\"]\n",
    "y = y.values\n",
    "x_train, x_test, y_train, y_test = sklearn.model_selection.train_test_split(x, y, test_size=.6)\n",
    "clf = svm.SVC()\n",
    "clf.fit(x_train, y_train)\n",
    "y_pred = clf.predict(x_test)\n",
    "acc = metrics.accuracy_score(y_test, y_pred)\n",
    "print(f\"Accuracy Score: {round(acc*100, 2)}%\")"
   ],
   "metadata": {
    "collapsed": false,
    "pycharm": {
     "name": "#%%\n"
    }
   }
  },
  {
   "cell_type": "code",
   "execution_count": 7,
   "outputs": [
    {
     "name": "stdout",
     "output_type": "stream",
     "text": [
      "Accuracy Score: 76.58%\n"
     ]
    }
   ],
   "source": [
    "x = df1.loc[:,[\"Race\", \"Gender\"]]\n",
    "x = x.values\n",
    "y = df1.loc[:, \"Residence_Changes\"]\n",
    "y = y.values\n",
    "x_train, x_test, y_train, y_test = sklearn.model_selection.train_test_split(x, y, test_size=.6)\n",
    "clf = svm.SVC()\n",
    "clf.fit(x_train, y_train)\n",
    "y_pred = clf.predict(x_test)\n",
    "acc = metrics.accuracy_score(y_test, y_pred)\n",
    "print(f\"Accuracy Score: {round(acc*100, 2)}%\")"
   ],
   "metadata": {
    "collapsed": false,
    "pycharm": {
     "name": "#%%\n"
    }
   }
  },
  {
   "cell_type": "code",
   "execution_count": 8,
   "outputs": [
    {
     "name": "stdout",
     "output_type": "stream",
     "text": [
      "Accuracy Score: 89.81%\n"
     ]
    }
   ],
   "source": [
    "x = df1.loc[:,[\"Prior_Arrest_Episodes_PPViolationCharges\", \"Gender\"]]\n",
    "x = x.values\n",
    "y = df1.loc[:, \"Recidivism_Arrest_Year3\"]\n",
    "y = y.values\n",
    "x_train, x_test, y_train, y_test = sklearn.model_selection.train_test_split(x, y, test_size=.6)\n",
    "clf = svm.SVC()\n",
    "clf.fit(x_train, y_train)\n",
    "y_pred = clf.predict(x_test)\n",
    "acc = metrics.accuracy_score(y_test, y_pred)\n",
    "print(f\"Accuracy Score: {round(acc*100, 2)}%\")"
   ],
   "metadata": {
    "collapsed": false,
    "pycharm": {
     "name": "#%%\n"
    }
   }
  },
  {
   "cell_type": "code",
   "execution_count": 9,
   "outputs": [
    {
     "name": "stdout",
     "output_type": "stream",
     "text": [
      "Accuracy Score: 70.99%\n"
     ]
    }
   ],
   "source": [
    "x = df1.loc[:,[\"Race\", \"Jobs_Per_Year\"]]\n",
    "x = x.values\n",
    "y = df1.loc[:, \"Prior_Arrest_Episodes_Violent\"]\n",
    "y = y.values\n",
    "x_train, x_test, y_train, y_test = sklearn.model_selection.train_test_split(x, y, test_size=.6)\n",
    "clf = svm.SVC()\n",
    "clf.fit(x_train, y_train)\n",
    "y_pred = clf.predict(x_test)\n",
    "acc = metrics.accuracy_score(y_test, y_pred)\n",
    "print(f\"Accuracy Score: {round(acc*100, 2)}%\")"
   ],
   "metadata": {
    "collapsed": false,
    "pycharm": {
     "name": "#%%\n"
    }
   }
  },
  {
   "cell_type": "code",
   "execution_count": 10,
   "outputs": [
    {
     "name": "stdout",
     "output_type": "stream",
     "text": [
      "Accuracy Score: 70.62%\n"
     ]
    }
   ],
   "source": [
    "x = df1.loc[:,[\"Prior_Arrest_Episodes_PPViolationCharges\", \"Delinquency_Reports\"]]\n",
    "x = x.values\n",
    "y = df1.loc[:, \"Prior_Arrest_Episodes_Violent\"]\n",
    "y = y.values\n",
    "x_train, x_test, y_train, y_test = sklearn.model_selection.train_test_split(x, y, test_size=.6)\n",
    "clf = svm.SVC()\n",
    "clf.fit(x_train, y_train)\n",
    "y_pred = clf.predict(x_test)\n",
    "acc = metrics.accuracy_score(y_test, y_pred)\n",
    "print(f\"Accuracy Score: {round(acc*100, 2)}%\")"
   ],
   "metadata": {
    "collapsed": false,
    "pycharm": {
     "name": "#%%\n"
    }
   }
  },
  {
   "cell_type": "code",
   "execution_count": null,
   "outputs": [],
   "source": [
    "x = df1.loc[:,[\"Gender\", \"Gang_Affiliated\"]]\n",
    "x = x.values\n",
    "y = df1.loc[:, \"Dependents\"]\n",
    "y = y.values\n",
    "x_train, x_test, y_train, y_test = sklearn.model_selection.train_test_split(x, y, test_size=.6)\n",
    "clf = svm.SVC()\n",
    "clf.fit(x_train, y_train)\n",
    "y_pred = clf.predict(x_test)\n",
    "acc = metrics.accuracy_score(y_test, y_pred)\n",
    "print(f\"Accuracy Score: {round(acc*100, 2)}%\")"
   ],
   "metadata": {
    "collapsed": false,
    "pycharm": {
     "name": "#%%\n",
     "is_executing": true
    }
   }
  },
  {
   "cell_type": "code",
   "execution_count": null,
   "outputs": [],
   "source": [],
   "metadata": {
    "collapsed": false,
    "pycharm": {
     "name": "#%%\n",
     "is_executing": true
    }
   }
  },
  {
   "cell_type": "code",
   "execution_count": null,
   "outputs": [],
   "source": [],
   "metadata": {
    "collapsed": false,
    "pycharm": {
     "name": "#%%\n",
     "is_executing": true
    }
   }
  },
  {
   "cell_type": "code",
   "execution_count": null,
   "outputs": [],
   "source": [],
   "metadata": {
    "collapsed": false,
    "pycharm": {
     "name": "#%%\n",
     "is_executing": true
    }
   }
  },
  {
   "cell_type": "code",
   "execution_count": null,
   "outputs": [],
   "source": [],
   "metadata": {
    "collapsed": false,
    "pycharm": {
     "name": "#%%\n",
     "is_executing": true
    }
   }
  }
 ],
 "metadata": {
  "kernelspec": {
   "display_name": "Python 3",
   "language": "python",
   "name": "python3"
  },
  "language_info": {
   "codemirror_mode": {
    "name": "ipython",
    "version": 2
   },
   "file_extension": ".py",
   "mimetype": "text/x-python",
   "name": "python",
   "nbconvert_exporter": "python",
   "pygments_lexer": "ipython2",
   "version": "2.7.6"
  }
 },
 "nbformat": 4,
 "nbformat_minor": 0
}
